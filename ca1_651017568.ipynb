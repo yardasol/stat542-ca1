{
 "cells": [
  {
   "cell_type": "code",
   "execution_count": 1,
   "id": "1a481c1b",
   "metadata": {
    "pycharm": {
     "name": "#%%\n"
    }
   },
   "outputs": [],
   "source": [
    "import numpy as np\n",
    "import pandas as pd\n",
    "import matplotlib.pyplot as plt\n",
    "from sklearn.neighbors import KNeighborsClassifier as knn\n",
    "\n",
    "# Set seed\n",
    "np.random.seed(651017568)"
   ]
  },
  {
   "cell_type": "code",
   "execution_count": 2,
   "id": "92c56947",
   "metadata": {
    "pycharm": {
     "name": "#%%\n"
    }
   },
   "outputs": [],
   "source": [
    "# Team members\n",
    "# Olek [oyardas2]\n",
    "# Dreycen [dfoiles2]\n",
    "\n",
    "# Contribution break-up\n"
   ]
  },
  {
   "cell_type": "markdown",
   "id": "127ab29e",
   "metadata": {
    "pycharm": {
     "name": "#%% md\n"
    }
   },
   "source": [
    "### Generate Centers"
   ]
  },
  {
   "cell_type": "code",
   "execution_count": 3,
   "id": "4015e6b8",
   "metadata": {
    "pycharm": {
     "name": "#%%\n"
    }
   },
   "outputs": [],
   "source": [
    "p = 2 # for bivariate gaussian\n",
    "csize = 10 # number of gaussians\n",
    "sigma = 1 # variance\n",
    "m1 = np.random.normal(size = (csize, p)) * sigma + np.concatenate([np.array([[1, 0]] * csize)])\n",
    "m0 = np.random.normal(size = (csize, p)) * sigma + np.concatenate([np.array([[0, 1]] * csize)])\n",
    "\n",
    "class sim_params :\n",
    "    csize = 10           # number of centers\n",
    "    p = 2                # dimension\n",
    "    s = np.sqrt(1 / 5)   # standard deviation for generating data\n",
    "    n = 200              # training size per class\n",
    "    N = 10000             # test size per class\n",
    "    m0 = m0              # 10 centers for class 0\n",
    "    m1 = m1              # 10 centers for class 1"
   ]
  },
  {
   "cell_type": "markdown",
   "id": "5af35d95",
   "metadata": {
    "pycharm": {
     "name": "#%% md\n"
    }
   },
   "source": [
    "### Generate Data"
   ]
  },
  {
   "cell_type": "code",
   "execution_count": 4,
   "id": "5f5deb64",
   "metadata": {
    "pycharm": {
     "name": "#%%\n"
    }
   },
   "outputs": [],
   "source": [
    "def generate_sim_data(sim_params):\n",
    "\n",
    "    p = sim_params.p\n",
    "    s = sim_params.s\n",
    "    n = sim_params.n\n",
    "    N = sim_params.N\n",
    "    m1 = sim_params.m1\n",
    "    m0 = sim_params.m0\n",
    "    csize = sim_params.csize\n",
    "    \n",
    "    id1 = np.random.randint(csize, size = n)\n",
    "    id0 = np.random.randint(csize, size = n)\n",
    "\n",
    "    Xtrain = np.random.normal(size = (2 * n, p)) * s \\\n",
    "                + np.concatenate([m1[id1,:], m0[id0,:]])\n",
    "    Ytrain = np.concatenate(([1]*n, [0]*n))\n",
    "\n",
    "    id1 = np.random.randint(csize, size = N)\n",
    "    id0 = np.random.randint(csize, size = N)\n",
    "    Xtest = np.random.normal(size = (2 * N, p)) * s \\\n",
    "                + np.concatenate([m1[id1,:], m0[id0,:]])\n",
    "    Ytest = np.concatenate(([1]*N, [0]*N))\n",
    "\n",
    "    return Xtrain, Ytrain, Xtest, Ytest"
   ]
  },
  {
   "cell_type": "markdown",
   "id": "5bd85342",
   "metadata": {
    "pycharm": {
     "name": "#%% md\n"
    }
   },
   "source": [
    "\n",
    "\n",
    "Use the function above to generate a set of training and test data.\n"
   ]
  },
  {
   "cell_type": "code",
   "execution_count": 5,
   "id": "ce15539e",
   "metadata": {
    "pycharm": {
     "name": "#%%\n"
    }
   },
   "outputs": [],
   "source": [
    "Xtrain, Ytrain, Xtest, Ytest = generate_sim_data(sim_params)"
   ]
  },
  {
   "cell_type": "markdown",
   "id": "b4a63e86",
   "metadata": {
    "pycharm": {
     "name": "#%% md\n"
    }
   },
   "source": [
    "### Visualization"
   ]
  },
  {
   "cell_type": "code",
   "execution_count": 7,
   "id": "dbf65da0",
   "metadata": {
    "pycharm": {
     "name": "#%%\n"
    }
   },
   "outputs": [
    {
     "data": {
      "text/plain": "<Figure size 432x288 with 1 Axes>",
      "image/png": "[encoded data removed]"
     },
     "metadata": {
      "needs_background": "light"
     },
     "output_type": "display_data"
    }
   ],
   "source": [
    "n = sim_params.n\n",
    "m0 = sim_params.m0        \n",
    "m1 = sim_params.m1\n",
    "\n",
    "plt.figure()\n",
    "plt.scatter(Xtrain[:n, 0], Xtrain[:n, 1], \n",
    "            color = 'blue', alpha = 0.2, label = 'Class 1')\n",
    "plt.scatter(Xtrain[n:, 0], Xtrain[n:, 1], \n",
    "            color = 'red', alpha = 0.2, label = 'Class 0')\n",
    "plt.scatter(m1[:, 0], m1[:, 1], marker = '+', color = 'blue', s = 120)\n",
    "plt.scatter(m0[:, 0], m0[:, 1], marker = '+', color = 'red', s = 120)\n",
    "plt.legend()\n",
    "plt.show()"
   ]
  },
  {
   "cell_type": "markdown",
   "id": "ef1500b9",
   "metadata": {
    "pycharm": {
     "name": "#%% md\n"
    }
   },
   "source": [
    "## Part I: kNN"
   ]
  },
  {
   "cell_type": "code",
   "execution_count": 8,
   "id": "a25fdbee",
   "metadata": {
    "pycharm": {
     "name": "#%%\n"
    }
   },
   "outputs": [],
   "source": [
    "from scipy.spatial.distance import pdist"
   ]
  },
  {
   "cell_type": "code",
   "execution_count": 26,
   "id": "490bec13",
   "metadata": {
    "pycharm": {
     "name": "#%%\n"
    }
   },
   "outputs": [],
   "source": [
    "def dist(p1,p2):\n",
    "\n",
    "    return np.sqrt(np.sum((p1 - p2)**2,axis=1))\n",
    "\n",
    "def my_knn(k, Xtrain, Ytrain, Xtest):\n",
    "    Ytest_hat = []\n",
    "    for xtest in Xtest:\n",
    "\n",
    "        # distances = []\n",
    "        # kclosest = []\n",
    "        ## to implemet\n",
    "        distances = dist(xtest, Xtrain)\n",
    "\n",
    "        sorted_indices = np.argsort(np.array(distances))\n",
    "        sorted_Ytrain = Ytrain[sorted_indices]\n",
    "\n",
    "        k_nn_Ytrain = sorted_Ytrain[:k]\n",
    "\n",
    "        p1 = 1/k * np.sum(k_nn_Ytrain) # prob that xtrain is class 1\n",
    "        p0 = 1 - p1\n",
    "        \n",
    "        \n",
    "        if p1 > p0:\n",
    "            ytest = 1\n",
    "        elif p1 < p0:\n",
    "            ytest = 0\n",
    "        else:\n",
    "            # flip a coin\n",
    "            ytest = np.random.randint(2)\n",
    "            \n",
    "        Ytest_hat.append(ytest)\n",
    "    return np.array(Ytest_hat)"
   ]
  },
  {
   "cell_type": "markdown",
   "id": "270f034d",
   "metadata": {
    "pycharm": {
     "name": "#%% md\n"
    }
   },
   "source": [
    "Compare your results with the ones from `sklearn.neighbors.KNeighborsClassifier`"
   ]
  },
  {
   "cell_type": "code",
   "execution_count": 27,
   "id": "279ff40d",
   "metadata": {
    "pycharm": {
     "name": "#%%\n"
    }
   },
   "outputs": [],
   "source": [
    "def confusion_matrix(Ytrue, Ypred):\n",
    "    return np.bincount(Ytrue + 2*Ypred).reshape(2, 2)"
   ]
  },
  {
   "cell_type": "code",
   "execution_count": 28,
   "id": "11350159",
   "metadata": {
    "pycharm": {
     "name": "#%%\n"
    }
   },
   "outputs": [
    {
     "name": "stdout",
     "output_type": "stream",
     "text": [
      "K = 1: \n"
     ]
    },
    {
     "data": {
      "text/plain": "array([[ 9902,     0],\n       [    0, 10098]], dtype=int64)"
     },
     "execution_count": 28,
     "metadata": {},
     "output_type": "execute_result"
    }
   ],
   "source": [
    "k = 1\n",
    "print(f'K = {k}: ')\n",
    "Ytest = my_knn(k, Xtrain, Ytrain, Xtest).astype('int64')\n",
    "knn_model = knn(n_neighbors = k)\n",
    "knn_model.fit(Xtrain, Ytrain)\n",
    "test_pred = knn_model.predict(Xtest)\n",
    "confusion_matrix(Ytest, test_pred) # same as pd.crosstab"
   ]
  },
  {
   "cell_type": "code",
   "execution_count": 29,
   "id": "27480b8c",
   "metadata": {
    "pycharm": {
     "name": "#%%\n"
    }
   },
   "outputs": [
    {
     "name": "stdout",
     "output_type": "stream",
     "text": [
      "K = 3: \n"
     ]
    },
    {
     "data": {
      "text/plain": "array([[ 9927,     0],\n       [    0, 10073]], dtype=int64)"
     },
     "execution_count": 29,
     "metadata": {},
     "output_type": "execute_result"
    }
   ],
   "source": [
    "k = 3\n",
    "print(f'K = {k}: ')\n",
    "Ytest = my_knn(k, Xtrain, Ytrain, Xtest).astype('int64')\n",
    "knn_model = knn(n_neighbors = k)\n",
    "knn_model.fit(Xtrain, Ytrain)\n",
    "test_pred = knn_model.predict(Xtest)\n",
    "confusion_matrix(Ytest, test_pred) # same as pd.crosstab"
   ]
  },
  {
   "cell_type": "code",
   "execution_count": 30,
   "id": "baeb292d",
   "metadata": {
    "pycharm": {
     "name": "#%%\n"
    }
   },
   "outputs": [
    {
     "name": "stdout",
     "output_type": "stream",
     "text": [
      "K = 5: \n"
     ]
    },
    {
     "data": {
      "text/plain": "array([[10076,     0],\n       [    0,  9924]], dtype=int64)"
     },
     "execution_count": 30,
     "metadata": {},
     "output_type": "execute_result"
    }
   ],
   "source": [
    "k = 5\n",
    "print(f'K = {k}: ')\n",
    "Ytest = my_knn(k, Xtrain, Ytrain, Xtest).astype('int64')\n",
    "knn_model = knn(n_neighbors = k)\n",
    "knn_model.fit(Xtrain, Ytrain)\n",
    "test_pred = knn_model.predict(Xtest)\n",
    "confusion_matrix(Ytest, test_pred) # same as pd.crosstab"
   ]
  },
  {
   "cell_type": "markdown",
   "source": [
    "**Our function appears to generate correct predictions. The confusion matrix has no false positives or negatives.**"
   ],
   "metadata": {
    "collapsed": false,
    "pycharm": {
     "name": "#%% md\n"
    }
   }
  },
  {
   "cell_type": "code",
   "execution_count": 31,
   "outputs": [
    {
     "data": {
      "text/plain": "col_0      0     1\nrow_0             \n0      10076     0\n1          0  9924",
      "text/html": "<div>\n<style scoped>\n    .dataframe tbody tr th:only-of-type {\n        vertical-align: middle;\n    }\n\n    .dataframe tbody tr th {\n        vertical-align: top;\n    }\n\n    .dataframe thead th {\n        text-align: right;\n    }\n</style>\n<table border=\"1\" class=\"dataframe\">\n  <thead>\n    <tr style=\"text-align: right;\">\n      <th>col_0</th>\n      <th>0</th>\n      <th>1</th>\n    </tr>\n    <tr>\n      <th>row_0</th>\n      <th></th>\n      <th></th>\n    </tr>\n  </thead>\n  <tbody>\n    <tr>\n      <th>0</th>\n      <td>10076</td>\n      <td>0</td>\n    </tr>\n    <tr>\n      <th>1</th>\n      <td>0</td>\n      <td>9924</td>\n    </tr>\n  </tbody>\n</table>\n</div>"
     },
     "execution_count": 31,
     "metadata": {},
     "output_type": "execute_result"
    }
   ],
   "source": [
    "pd.crosstab(test_pred,Ytest)"
   ],
   "metadata": {
    "collapsed": false,
    "pycharm": {
     "name": "#%%\n"
    }
   }
  },
  {
   "cell_type": "code",
   "execution_count": 32,
   "outputs": [
    {
     "data": {
      "text/plain": "0.0"
     },
     "execution_count": 32,
     "metadata": {},
     "output_type": "execute_result"
    }
   ],
   "source": [
    "np.mean(test_pred != Ytest)"
   ],
   "metadata": {
    "collapsed": false,
    "pycharm": {
     "name": "#%%\n"
    }
   }
  },
  {
   "cell_type": "markdown",
   "id": "9ef9ae5c",
   "metadata": {
    "pycharm": {
     "name": "#%% md\n"
    }
   },
   "source": [
    "\n",
    "## Part II: cv-KNN\n",
    "\n",
    "Sample code for computing CV error for a particular K value.\n"
   ]
  },
  {
   "cell_type": "code",
   "execution_count": 53,
   "id": "0e7e5940",
   "metadata": {
    "pycharm": {
     "name": "#%%\n"
    }
   },
   "outputs": [],
   "source": [
    "def cv_error(K, traindata, Ytrain, num_folds):\n",
    "\n",
    "    # num_folds = 10\n",
    "    n = len(Ytrain)\n",
    "    fold_size = int(n / num_folds)\n",
    "    err = 0\n",
    "\n",
    "    indices = np.arange(n)\n",
    "    np.random.shuffle(indices)\n",
    "    index_sets = np.array_split(indices, num_folds)\n",
    "\n",
    "    for ifold in range(num_folds):\n",
    "        train_indices =  np.delete(index_sets, obj=ifold, axis=0).ravel()\n",
    "        _traindata = traindata[train_indices]\n",
    "        _Ytrain = Ytrain[train_indices]\n",
    "\n",
    "        test_indices = index_sets[ifold]\n",
    "        _testdata = traindata[test_indices]\n",
    "        _Ytest = Ytrain[test_indices]\n",
    "\n",
    "        knn_model = knn(K)\n",
    "        knn_model.fit(_traindata, _Ytrain)\n",
    "        predict_Y = knn_model.predict(_testdata)\n",
    "        err += sum(predict_Y != _Ytest)\n",
    "\n",
    "    err /= float(n)\n",
    "    return err"
   ]
  },
  {
   "cell_type": "markdown",
   "id": "7d4d0594",
   "metadata": {
    "pycharm": {
     "name": "#%% md\n"
    }
   },
   "source": [
    "Your CV-KNN code may look like the following"
   ]
  },
  {
   "cell_type": "code",
   "execution_count": 54,
   "id": "82c7d323",
   "metadata": {
    "pycharm": {
     "name": "#%%\n"
    }
   },
   "outputs": [],
   "source": [
    "def my_cvKNN(traindata, Ytrain, num_folds):\n",
    "    n = len(Ytrain)\n",
    "    fold_size = int(n / num_folds)\n",
    "    kvector = range(1, 181)\n",
    "\n",
    "    k_cverr = []\n",
    "    for k in kvector:\n",
    "        err = cv_error(k, traindata, Ytrain, num_folds)\n",
    "        k_cverr.append(err)\n",
    "\n",
    "    ########################################\n",
    "    # Your Code\n",
    "    # Compute CV errors and store them in k_cverr\n",
    "    #########################################\n",
    "    \n",
    "    tmp = np.column_stack((kvector, k_cverr))\n",
    "    best_k = tmp[tmp[:,1] == np.min(tmp[:,1])][:,0]\n",
    "    return np.max(best_k)\n",
    "\n",
    "num_folds = 10\n",
    "best_k = int(my_cvKNN(Xtrain, Ytrain, num_folds))\n",
    "\n",
    "cvKNN = knn(best_k)\n",
    "cvKNN.fit(Xtrain, Ytrain)\n",
    "test_pred = cvKNN.predict(Xtest)"
   ]
  },
  {
   "cell_type": "markdown",
   "source": [
    "In the case of two k values that have equal test value, we use the k value that is numerically larger. This is because a larger k value makes our model more robust for future unknown datasets."
   ],
   "metadata": {
    "collapsed": false,
    "pycharm": {
     "name": "#%% md\n"
    }
   }
  },
  {
   "cell_type": "markdown",
   "id": "6129a687",
   "metadata": {
    "pycharm": {
     "name": "#%% md\n"
    }
   },
   "source": [
    "## Part III: Bayes Rule¶\n",
    "\n",
    "You can use the following code to compute the numerator and the denominator of that ratio."
   ]
  },
  {
   "cell_type": "code",
   "execution_count": 57,
   "id": "2e0fc844",
   "metadata": {
    "pycharm": {
     "name": "#%%\n"
    }
   },
   "outputs": [
    {
     "ename": "NameError",
     "evalue": "name 'x' is not defined",
     "output_type": "error",
     "traceback": [
      "\u001B[1;31m---------------------------------------------------------------------------\u001B[0m",
      "\u001B[1;31mNameError\u001B[0m                                 Traceback (most recent call last)",
      "Input \u001B[1;32mIn [57]\u001B[0m, in \u001B[0;36m<cell line: 1>\u001B[1;34m()\u001B[0m\n\u001B[1;32m----> 1\u001B[0m d1 \u001B[38;5;241m=\u001B[39m \u001B[38;5;28;43msum\u001B[39;49m\u001B[43m(\u001B[49m\u001B[43mnp\u001B[49m\u001B[38;5;241;43m.\u001B[39;49m\u001B[43mexp\u001B[49m\u001B[43m(\u001B[49m\u001B[38;5;241;43m-\u001B[39;49m\u001B[43m \u001B[49m\u001B[43m(\u001B[49m\u001B[43m(\u001B[49m\u001B[43mm1\u001B[49m\u001B[43m[\u001B[49m\u001B[43mi\u001B[49m\u001B[43m,\u001B[49m\u001B[43m \u001B[49m\u001B[38;5;241;43m0\u001B[39;49m\u001B[43m]\u001B[49m\u001B[43m \u001B[49m\u001B[38;5;241;43m-\u001B[39;49m\u001B[43m \u001B[49m\u001B[43mx\u001B[49m\u001B[43m[\u001B[49m\u001B[38;5;241;43m0\u001B[39;49m\u001B[43m]\u001B[49m\u001B[43m)\u001B[49m\u001B[43m \u001B[49m\u001B[38;5;241;43m*\u001B[39;49m\u001B[38;5;241;43m*\u001B[39;49m\u001B[43m \u001B[49m\u001B[38;5;241;43m2\u001B[39;49m\u001B[43m \u001B[49m\u001B[38;5;241;43m+\u001B[39;49m\u001B[43m \u001B[49m\u001B[43m(\u001B[49m\u001B[43mm1\u001B[49m\u001B[43m[\u001B[49m\u001B[43mi\u001B[49m\u001B[43m,\u001B[49m\u001B[43m \u001B[49m\u001B[38;5;241;43m1\u001B[39;49m\u001B[43m]\u001B[49m\u001B[43m \u001B[49m\u001B[38;5;241;43m-\u001B[39;49m\u001B[43m \u001B[49m\u001B[43mx\u001B[49m\u001B[43m[\u001B[49m\u001B[38;5;241;43m1\u001B[39;49m\u001B[43m]\u001B[49m\u001B[43m)\u001B[49m\u001B[43m \u001B[49m\u001B[38;5;241;43m*\u001B[39;49m\u001B[38;5;241;43m*\u001B[39;49m\u001B[43m \u001B[49m\u001B[38;5;241;43m2\u001B[39;49m\u001B[43m)\u001B[49m\u001B[43m \u001B[49m\u001B[38;5;241;43m/\u001B[39;49m\u001B[43m \u001B[49m\u001B[43m(\u001B[49m\u001B[38;5;241;43m2\u001B[39;49m\u001B[43m \u001B[49m\u001B[38;5;241;43m*\u001B[39;49m\u001B[43m \u001B[49m\u001B[43ms\u001B[49m\u001B[43m \u001B[49m\u001B[38;5;241;43m*\u001B[39;49m\u001B[38;5;241;43m*\u001B[39;49m\u001B[43m \u001B[49m\u001B[38;5;241;43m2\u001B[39;49m\u001B[43m)\u001B[49m\u001B[43m)\u001B[49m\u001B[43m \u001B[49m\u001B[38;5;28;43;01mfor\u001B[39;49;00m\u001B[43m \u001B[49m\u001B[43mi\u001B[49m\u001B[43m \u001B[49m\u001B[38;5;129;43;01min\u001B[39;49;00m\u001B[43m \u001B[49m\u001B[38;5;28;43mrange\u001B[39;49m\u001B[43m(\u001B[49m\u001B[38;5;28;43mlen\u001B[39;49m\u001B[43m(\u001B[49m\u001B[43mm1\u001B[49m\u001B[43m)\u001B[49m\u001B[43m)\u001B[49m\u001B[43m)\u001B[49m\n\u001B[0;32m      2\u001B[0m d0 \u001B[38;5;241m=\u001B[39m \u001B[38;5;28msum\u001B[39m(np\u001B[38;5;241m.\u001B[39mexp(\u001B[38;5;241m-\u001B[39m ((m0[i, \u001B[38;5;241m0\u001B[39m] \u001B[38;5;241m-\u001B[39m x[\u001B[38;5;241m0\u001B[39m]) \u001B[38;5;241m*\u001B[39m\u001B[38;5;241m*\u001B[39m \u001B[38;5;241m2\u001B[39m \u001B[38;5;241m+\u001B[39m (m0[i, \u001B[38;5;241m1\u001B[39m] \u001B[38;5;241m-\u001B[39m x[\u001B[38;5;241m1\u001B[39m]) \u001B[38;5;241m*\u001B[39m\u001B[38;5;241m*\u001B[39m \u001B[38;5;241m2\u001B[39m) \u001B[38;5;241m/\u001B[39m (\u001B[38;5;241m2\u001B[39m \u001B[38;5;241m*\u001B[39m s \u001B[38;5;241m*\u001B[39m\u001B[38;5;241m*\u001B[39m \u001B[38;5;241m2\u001B[39m)) \u001B[38;5;28;01mfor\u001B[39;00m i \u001B[38;5;129;01min\u001B[39;00m \u001B[38;5;28mrange\u001B[39m(\u001B[38;5;28mlen\u001B[39m(m0)))\n",
      "Input \u001B[1;32mIn [57]\u001B[0m, in \u001B[0;36m<genexpr>\u001B[1;34m(.0)\u001B[0m\n\u001B[1;32m----> 1\u001B[0m d1 \u001B[38;5;241m=\u001B[39m \u001B[38;5;28msum\u001B[39m(np\u001B[38;5;241m.\u001B[39mexp(\u001B[38;5;241m-\u001B[39m ((m1[i, \u001B[38;5;241m0\u001B[39m] \u001B[38;5;241m-\u001B[39m \u001B[43mx\u001B[49m[\u001B[38;5;241m0\u001B[39m]) \u001B[38;5;241m*\u001B[39m\u001B[38;5;241m*\u001B[39m \u001B[38;5;241m2\u001B[39m \u001B[38;5;241m+\u001B[39m (m1[i, \u001B[38;5;241m1\u001B[39m] \u001B[38;5;241m-\u001B[39m x[\u001B[38;5;241m1\u001B[39m]) \u001B[38;5;241m*\u001B[39m\u001B[38;5;241m*\u001B[39m \u001B[38;5;241m2\u001B[39m) \u001B[38;5;241m/\u001B[39m (\u001B[38;5;241m2\u001B[39m \u001B[38;5;241m*\u001B[39m s \u001B[38;5;241m*\u001B[39m\u001B[38;5;241m*\u001B[39m \u001B[38;5;241m2\u001B[39m)) \u001B[38;5;28;01mfor\u001B[39;00m i \u001B[38;5;129;01min\u001B[39;00m \u001B[38;5;28mrange\u001B[39m(\u001B[38;5;28mlen\u001B[39m(m1)))\n\u001B[0;32m      2\u001B[0m d0 \u001B[38;5;241m=\u001B[39m \u001B[38;5;28msum\u001B[39m(np\u001B[38;5;241m.\u001B[39mexp(\u001B[38;5;241m-\u001B[39m ((m0[i, \u001B[38;5;241m0\u001B[39m] \u001B[38;5;241m-\u001B[39m x[\u001B[38;5;241m0\u001B[39m]) \u001B[38;5;241m*\u001B[39m\u001B[38;5;241m*\u001B[39m \u001B[38;5;241m2\u001B[39m \u001B[38;5;241m+\u001B[39m (m0[i, \u001B[38;5;241m1\u001B[39m] \u001B[38;5;241m-\u001B[39m x[\u001B[38;5;241m1\u001B[39m]) \u001B[38;5;241m*\u001B[39m\u001B[38;5;241m*\u001B[39m \u001B[38;5;241m2\u001B[39m) \u001B[38;5;241m/\u001B[39m (\u001B[38;5;241m2\u001B[39m \u001B[38;5;241m*\u001B[39m s \u001B[38;5;241m*\u001B[39m\u001B[38;5;241m*\u001B[39m \u001B[38;5;241m2\u001B[39m)) \u001B[38;5;28;01mfor\u001B[39;00m i \u001B[38;5;129;01min\u001B[39;00m \u001B[38;5;28mrange\u001B[39m(\u001B[38;5;28mlen\u001B[39m(m0)))\n",
      "\u001B[1;31mNameError\u001B[0m: name 'x' is not defined"
     ]
    }
   ],
   "source": [
    "d1 = sum(np.exp(- ((m1[i, 0] - x[0]) ** 2 + (m1[i, 1] - x[1]) ** 2) / (2 * s ** 2)) for i in range(len(m1)))\n",
    "d0 = sum(np.exp(- ((m0[i, 0] - x[0]) ** 2 + (m0[i, 1] - x[1]) ** 2) / (2 * s ** 2)) for i in range(len(m0)))"
   ]
  },
  {
   "cell_type": "markdown",
   "id": "87d824c4",
   "metadata": {
    "pycharm": {
     "name": "#%% md\n"
    }
   },
   "source": [
    "## Part IV: Simulation Study"
   ]
  },
  {
   "cell_type": "code",
   "execution_count": null,
   "id": "f3222c82",
   "metadata": {
    "pycharm": {
     "name": "#%%\n"
    }
   },
   "outputs": [],
   "source": []
  }
 ],
 "metadata": {
  "kernelspec": {
   "name": "python3",
   "language": "python",
   "display_name": "Python 3 (ipykernel)"
  },
  "language_info": {
   "codemirror_mode": {
    "name": "ipython",
    "version": 3
   },
   "file_extension": ".py",
   "mimetype": "text/x-python",
   "name": "python",
   "nbconvert_exporter": "python",
   "pygments_lexer": "ipython3",
   "version": "3.10.2"
  }
 },
 "nbformat": 4,
 "nbformat_minor": 5
}