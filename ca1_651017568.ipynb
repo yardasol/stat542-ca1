{
 "cells": [
  {
   "cell_type": "code",
   "execution_count": 1,
   "id": "1a481c1b",
   "metadata": {
    "pycharm": {
     "name": "#%%\n"
    }
   },
   "outputs": [],
   "source": [
    "import numpy as np\n",
    "import pandas as pd\n",
    "import matplotlib.pyplot as plt\n",
    "from sklearn.neighbors import KNeighborsClassifier as knn\n",
    "\n",
    "# Set seed\n",
    "np.random.seed(651017568)"
   ]
  },
  {
   "cell_type": "code",
   "execution_count": 2,
   "id": "92c56947",
   "metadata": {
    "pycharm": {
     "name": "#%%\n"
    }
   },
   "outputs": [],
   "source": [
    "# Team members\n",
    "# Olek [oyardas2]\n",
    "# Dreycen [dfoiles2]\n",
    "\n",
    "# Contribution break-up\n"
   ]
  },
  {
   "cell_type": "markdown",
   "id": "127ab29e",
   "metadata": {
    "pycharm": {
     "name": "#%% md\n"
    }
   },
   "source": [
    "### Generate Centers"
   ]
  },
  {
   "cell_type": "code",
   "execution_count": 3,
   "id": "4015e6b8",
   "metadata": {
    "pycharm": {
     "name": "#%%\n"
    }
   },
   "outputs": [],
   "source": [
    "p = 2 # for bivariate gaussian\n",
    "csize = 10 # number of gaussians\n",
    "sigma = 1 # variance\n",
    "m1 = np.random.normal(size = (csize, p)) * sigma + np.concatenate([np.array([[1, 0]] * csize)])\n",
    "m0 = np.random.normal(size = (csize, p)) * sigma + np.concatenate([np.array([[0, 1]] * csize)])\n",
    "\n",
    "class sim_params :\n",
    "    csize = 10           # number of centers\n",
    "    p = 2                # dimension\n",
    "    s = np.sqrt(1 / 5)   # standard deviation for generating data\n",
    "    n = 200              # training size per class\n",
    "    N = 10000             # test size per class\n",
    "    m0 = m0              # 10 centers for class 0\n",
    "    m1 = m1              # 10 centers for class 1"
   ]
  },
  {
   "cell_type": "markdown",
   "id": "5af35d95",
   "metadata": {
    "pycharm": {
     "name": "#%% md\n"
    }
   },
   "source": [
    "### Generate Data"
   ]
  },
  {
   "cell_type": "code",
   "execution_count": 4,
   "id": "5f5deb64",
   "metadata": {
    "pycharm": {
     "name": "#%%\n"
    }
   },
   "outputs": [],
   "source": [
    "def generate_sim_data(sim_params):\n",
    "\n",
    "    p = sim_params.p\n",
    "    s = sim_params.s\n",
    "    n = sim_params.n\n",
    "    N = sim_params.N\n",
    "    m1 = sim_params.m1\n",
    "    m0 = sim_params.m0\n",
    "    csize = sim_params.csize\n",
    "    \n",
    "    id1 = np.random.randint(csize, size = n)\n",
    "    id0 = np.random.randint(csize, size = n)\n",
    "\n",
    "    Xtrain = np.random.normal(size = (2 * n, p)) * s \\\n",
    "                + np.concatenate([m1[id1,:], m0[id0,:]])\n",
    "    Ytrain = np.concatenate(([1]*n, [0]*n))\n",
    "\n",
    "    id1 = np.random.randint(csize, size = N)\n",
    "    id0 = np.random.randint(csize, size = N)\n",
    "    Xtest = np.random.normal(size = (2 * N, p)) * s \\\n",
    "                + np.concatenate([m1[id1,:], m0[id0,:]])\n",
    "    Ytest = np.concatenate(([1]*N, [0]*N))\n",
    "\n",
    "    return Xtrain, Ytrain, Xtest, Ytest"
   ]
  },
  {
   "cell_type": "markdown",
   "id": "5bd85342",
   "metadata": {
    "pycharm": {
     "name": "#%% md\n"
    }
   },
   "source": [
    "\n",
    "\n",
    "Use the function above to generate a set of training and test data.\n"
   ]
  },
  {
   "cell_type": "code",
   "execution_count": 17,
   "id": "ce15539e",
   "metadata": {
    "pycharm": {
     "name": "#%%\n"
    }
   },
   "outputs": [],
   "source": [
    "Xtrain, Ytrain, Xtest, Ytest = generate_sim_data(sim_params)"
   ]
  },
  {
   "cell_type": "code",
   "execution_count": 6,
   "id": "6003e4a2",
   "metadata": {
    "pycharm": {
     "name": "#%%\n"
    }
   },
   "outputs": [
    {
     "data": {
      "text/plain": [
       "array([1, 1, 1, 1, 1, 1, 1, 1, 1, 1, 1, 1, 1, 1, 1, 1, 1, 1, 1, 1, 1, 1,\n",
       "       1, 1, 1, 1, 1, 1, 1, 1, 1, 1, 1, 1, 1, 1, 1, 1, 1, 1, 1, 1, 1, 1,\n",
       "       1, 1, 1, 1, 1, 1, 1, 1, 1, 1, 1, 1, 1, 1, 1, 1, 1, 1, 1, 1, 1, 1,\n",
       "       1, 1, 1, 1, 1, 1, 1, 1, 1, 1, 1, 1, 1, 1, 1, 1, 1, 1, 1, 1, 1, 1,\n",
       "       1, 1, 1, 1, 1, 1, 1, 1, 1, 1, 1, 1, 1, 1, 1, 1, 1, 1, 1, 1, 1, 1,\n",
       "       1, 1, 1, 1, 1, 1, 1, 1, 1, 1, 1, 1, 1, 1, 1, 1, 1, 1, 1, 1, 1, 1,\n",
       "       1, 1, 1, 1, 1, 1, 1, 1, 1, 1, 1, 1, 1, 1, 1, 1, 1, 1, 1, 1, 1, 1,\n",
       "       1, 1, 1, 1, 1, 1, 1, 1, 1, 1, 1, 1, 1, 1, 1, 1, 1, 1, 1, 1, 1, 1,\n",
       "       1, 1, 1, 1, 1, 1, 1, 1, 1, 1, 1, 1, 1, 1, 1, 1, 1, 1, 1, 1, 1, 1,\n",
       "       1, 1, 0, 0, 0, 0, 0, 0, 0, 0, 0, 0, 0, 0, 0, 0, 0, 0, 0, 0, 0, 0,\n",
       "       0, 0, 0, 0, 0, 0, 0, 0, 0, 0, 0, 0, 0, 0, 0, 0, 0, 0, 0, 0, 0, 0,\n",
       "       0, 0, 0, 0, 0, 0, 0, 0, 0, 0, 0, 0, 0, 0, 0, 0, 0, 0, 0, 0, 0, 0,\n",
       "       0, 0, 0, 0, 0, 0, 0, 0, 0, 0, 0, 0, 0, 0, 0, 0, 0, 0, 0, 0, 0, 0,\n",
       "       0, 0, 0, 0, 0, 0, 0, 0, 0, 0, 0, 0, 0, 0, 0, 0, 0, 0, 0, 0, 0, 0,\n",
       "       0, 0, 0, 0, 0, 0, 0, 0, 0, 0, 0, 0, 0, 0, 0, 0, 0, 0, 0, 0, 0, 0,\n",
       "       0, 0, 0, 0, 0, 0, 0, 0, 0, 0, 0, 0, 0, 0, 0, 0, 0, 0, 0, 0, 0, 0,\n",
       "       0, 0, 0, 0, 0, 0, 0, 0, 0, 0, 0, 0, 0, 0, 0, 0, 0, 0, 0, 0, 0, 0,\n",
       "       0, 0, 0, 0, 0, 0, 0, 0, 0, 0, 0, 0, 0, 0, 0, 0, 0, 0, 0, 0, 0, 0,\n",
       "       0, 0, 0, 0])"
      ]
     },
     "execution_count": 6,
     "metadata": {},
     "output_type": "execute_result"
    }
   ],
   "source": [
    "Ytrain"
   ]
  },
  {
   "cell_type": "markdown",
   "id": "845d1196",
   "metadata": {
    "pycharm": {
     "name": "#%% md\n"
    }
   },
   "source": [
    "### Visualization"
   ]
  },
  {
   "cell_type": "code",
   "execution_count": 8,
   "id": "dbf65da0",
   "metadata": {
    "pycharm": {
     "name": "#%%\n"
    }
   },
   "outputs": [
    {
     "data": {
      "image/png": "[encoded data removed]",
      "text/plain": [
       "<Figure size 432x288 with 1 Axes>"
      ]
     },
     "metadata": {
      "needs_background": "light"
     },
     "output_type": "display_data"
    }
   ],
   "source": [
    "n = sim_params.n\n",
    "m0 = sim_params.m0        \n",
    "m1 = sim_params.m1\n",
    "\n",
    "plt.figure()\n",
    "plt.scatter(Xtrain[:n, 0], Xtrain[:n, 1], \n",
    "            color = 'blue', alpha = 0.2, label = 'Class 1')\n",
    "plt.scatter(Xtrain[n:, 0], Xtrain[n:, 1], \n",
    "            color = 'red', alpha = 0.2, label = 'Class 0')\n",
    "plt.scatter(m1[:, 0], m1[:, 1], marker = '+', color = 'blue', s = 120)\n",
    "plt.scatter(m0[:, 0], m0[:, 1], marker = '+', color = 'red', s = 120)\n",
    "plt.legend()\n",
    "plt.show()"
   ]
  },
  {
   "cell_type": "markdown",
   "id": "796c83e5",
   "metadata": {
    "pycharm": {
     "name": "#%% md\n"
    }
   },
   "source": [
    "## Part I: kNN"
   ]
  },
  {
   "cell_type": "code",
   "execution_count": 9,
   "id": "a25fdbee",
   "metadata": {},
   "outputs": [],
   "source": [
    "from scipy.spatial.distance import pdist"
   ]
  },
  {
   "cell_type": "code",
   "execution_count": 10,
   "id": "490bec13",
   "metadata": {
    "pycharm": {
     "name": "#%%\n"
    }
   },
   "outputs": [],
   "source": [
    "def dist(p1,p2):\n",
    "    return np.sqrt(np.sum((p1 - p2)**2,axis=1))\n",
    "def my_knn(k, Xtrain, Ytrain, Xtest):\n",
    "    Ytest_hat = []\n",
    "    for xtest in Xtest:\n",
    "        distances = []\n",
    "        #xtest_arr = np.repeat(list( * size(Xtrain)))\n",
    "        distances = dist(xtest, Xtrain)\n",
    "            \n",
    "        sorted_indices = np.argsort(np.array(distances))\n",
    "        sorted_Ytrain = Ytrain[sorted_indices]\n",
    "        \n",
    "        k_nn_Ytrain = sorted_Ytrain[:k]\n",
    "        \n",
    "        p1 = 1/k * np.sum(k_nn_Ytrain) # prob that xtrain is class 1\n",
    "        p0 = 1 - p1\n",
    "        \n",
    "        \n",
    "        if p1 > p0:\n",
    "            ytest = 1\n",
    "        elif p1 < p0:\n",
    "            ytest = 0\n",
    "        else:\n",
    "            # flip a coin\n",
    "            ytest = np.random.randint(2)\n",
    "            \n",
    "        Ytest_hat.append(ytest)\n",
    "    return np.array(Ytest_hat)"
   ]
  },
  {
   "cell_type": "markdown",
   "id": "46e77f85",
   "metadata": {
    "pycharm": {
     "name": "#%% md\n"
    }
   },
   "source": [
    "Compare your results with the ones from `sklearn.neighbors.KNeighborsClassifier`"
   ]
  },
  {
   "cell_type": "code",
   "execution_count": 11,
   "id": "279ff40d",
   "metadata": {
    "pycharm": {
     "name": "#%%\n"
    }
   },
   "outputs": [],
   "source": [
    "def confusion_matrix(Ytrue, Ypred):\n",
    "    return np.bincount(Ytrue + 2*Ypred).reshape(2, 2)"
   ]
  },
  {
   "cell_type": "code",
   "execution_count": 12,
   "id": "11350159",
   "metadata": {
    "pycharm": {
     "name": "#%%\n"
    }
   },
   "outputs": [
    {
     "name": "stdout",
     "output_type": "stream",
     "text": [
      "K = 1: \n"
     ]
    },
    {
     "data": {
      "text/plain": [
       "array([[ 9902,     0],\n",
       "       [    0, 10098]])"
      ]
     },
     "execution_count": 12,
     "metadata": {},
     "output_type": "execute_result"
    }
   ],
   "source": [
    "k = 1\n",
    "print(f'K = {k}: ')\n",
    "Ytest = my_knn(k, Xtrain, Ytrain, Xtest).astype('int64')\n",
    "knn_model = knn(n_neighbors = k)\n",
    "knn_model.fit(Xtrain, Ytrain)\n",
    "test_pred = knn_model.predict(Xtest)\n",
    "confusion_matrix(Ytest, test_pred) # same as pd.crosstab"
   ]
  },
  {
   "cell_type": "code",
   "execution_count": 13,
   "id": "27480b8c",
   "metadata": {
    "pycharm": {
     "name": "#%%\n"
    }
   },
   "outputs": [
    {
     "name": "stdout",
     "output_type": "stream",
     "text": [
      "K = 3: \n"
     ]
    },
    {
     "data": {
      "text/plain": [
       "array([[ 9927,     0],\n",
       "       [    0, 10073]])"
      ]
     },
     "execution_count": 13,
     "metadata": {},
     "output_type": "execute_result"
    }
   ],
   "source": [
    "k = 3\n",
    "print(f'K = {k}: ')\n",
    "Ytest = my_knn(k, Xtrain, Ytrain, Xtest).astype('int64')\n",
    "knn_model = knn(n_neighbors = k)\n",
    "knn_model.fit(Xtrain, Ytrain)\n",
    "test_pred = knn_model.predict(Xtest)\n",
    "confusion_matrix(Ytest, test_pred) # same as pd.crosstab"
   ]
  },
  {
   "cell_type": "code",
   "execution_count": 14,
   "id": "baeb292d",
   "metadata": {},
   "outputs": [
    {
     "name": "stdout",
     "output_type": "stream",
     "text": [
      "K = 5: \n"
     ]
    },
    {
     "data": {
      "text/plain": [
       "array([[10076,     0],\n",
       "       [    0,  9924]])"
      ]
     },
     "execution_count": 14,
     "metadata": {},
     "output_type": "execute_result"
    }
   ],
   "source": [
    "k = 5\n",
    "print(f'K = {k}: ')\n",
    "Ytest = my_knn(k, Xtrain, Ytrain, Xtest).astype('int64')\n",
    "knn_model = knn(n_neighbors = k)\n",
    "knn_model.fit(Xtrain, Ytrain)\n",
    "test_pred = knn_model.predict(Xtest)\n",
    "confusion_matrix(Ytest, test_pred) # same as pd.crosstab"
   ]
  },
  {
   "cell_type": "markdown",
   "id": "035b346c",
   "metadata": {},
   "source": [
    "**Our function appears to generate correct predictions. The confusion matrix has no false positives or negatives.**"
   ]
  },
  {
   "cell_type": "code",
   "execution_count": 15,
   "id": "30aeac83",
   "metadata": {
    "pycharm": {
     "name": "#%%\n"
    }
   },
   "outputs": [
    {
     "data": {
      "text/html": [
       "<div>\n",
       "<style scoped>\n",
       "    .dataframe tbody tr th:only-of-type {\n",
       "        vertical-align: middle;\n",
       "    }\n",
       "\n",
       "    .dataframe tbody tr th {\n",
       "        vertical-align: top;\n",
       "    }\n",
       "\n",
       "    .dataframe thead th {\n",
       "        text-align: right;\n",
       "    }\n",
       "</style>\n",
       "<table border=\"1\" class=\"dataframe\">\n",
       "  <thead>\n",
       "    <tr style=\"text-align: right;\">\n",
       "      <th>col_0</th>\n",
       "      <th>0</th>\n",
       "      <th>1</th>\n",
       "    </tr>\n",
       "    <tr>\n",
       "      <th>row_0</th>\n",
       "      <th></th>\n",
       "      <th></th>\n",
       "    </tr>\n",
       "  </thead>\n",
       "  <tbody>\n",
       "    <tr>\n",
       "      <th>0</th>\n",
       "      <td>10076</td>\n",
       "      <td>0</td>\n",
       "    </tr>\n",
       "    <tr>\n",
       "      <th>1</th>\n",
       "      <td>0</td>\n",
       "      <td>9924</td>\n",
       "    </tr>\n",
       "  </tbody>\n",
       "</table>\n",
       "</div>"
      ],
      "text/plain": [
       "col_0      0     1\n",
       "row_0             \n",
       "0      10076     0\n",
       "1          0  9924"
      ]
     },
     "execution_count": 15,
     "metadata": {},
     "output_type": "execute_result"
    }
   ],
   "source": [
    "pd.crosstab(test_pred, Ytest)"
   ]
  },
  {
   "cell_type": "code",
   "execution_count": 16,
   "id": "ff47277b",
   "metadata": {},
   "outputs": [
    {
     "data": {
      "text/plain": [
       "0.0"
      ]
     },
     "execution_count": 16,
     "metadata": {},
     "output_type": "execute_result"
    }
   ],
   "source": [
    "np.mean(test_pred != Ytest)\n"
   ]
  },
  {
   "cell_type": "markdown",
   "id": "9d019404",
   "metadata": {},
   "source": [
    "The error between the predictions is 0.0, confirming our previous statement"
   ]
  },
  {
   "cell_type": "code",
   "execution_count": 18,
   "id": "4f038f60",
   "metadata": {
    "pycharm": {
     "name": "#%%\n"
    }
   },
   "outputs": [
    {
     "data": {
      "text/plain": [
       "0.1694"
      ]
     },
     "execution_count": 18,
     "metadata": {},
     "output_type": "execute_result"
    }
   ],
   "source": [
    "(1969 + 1419) / (2* sim_params.N)"
   ]
  },
  {
   "cell_type": "markdown",
   "id": "1aed2a7b",
   "metadata": {
    "pycharm": {
     "name": "#%% md\n"
    }
   },
   "source": [
    "\n",
    "## Part II: cv-KNN\n",
    "\n",
    "Sample code for computing CV error for a particular K value.\n"
   ]
  },
  {
   "cell_type": "code",
   "execution_count": 5,
   "id": "0e7e5940",
   "metadata": {
    "pycharm": {
     "name": "#%%\n"
    }
   },
   "outputs": [],
   "source": [
    "def cv_error(K, traindata, Ytrain, num_folds):\n",
    "\n",
    "    # num_folds = 10\n",
    "    n = len(Ytrain)\n",
    "    fold_size = int(n / num_folds)\n",
    "    err = 0\n",
    "\n",
    "    indices = np.arange(n)\n",
    "    np.random.shuffle(indices)\n",
    "    index_sets = np.array_split(indices, num_folds)\n",
    "\n",
    "    for ifold in range(num_folds):\n",
    "        train_indices =  np.delete(index_sets, obj=ifold, axis=0).ravel()\n",
    "        _traindata = traindata[train_indices]\n",
    "        _Ytrain = Ytrain[train_indices]\n",
    "\n",
    "        test_indices = index_sets[ifold]\n",
    "        _testdata = traindata[test_indices]\n",
    "        _Ytest = Ytrain[test_indices]\n",
    "\n",
    "        knn_model = knn(K)\n",
    "        knn_model.fit(_traindata, _Ytrain)\n",
    "        predict_Y = knn_model.predict(_testdata)\n",
    "        err += sum(predict_Y != _Ytest)\n",
    "\n",
    "    err /= float(n)\n",
    "    return err"
   ]
  },
  {
   "cell_type": "markdown",
   "id": "7783d732",
   "metadata": {
    "pycharm": {
     "name": "#%% md\n"
    }
   },
   "source": [
    "Your CV-KNN code may look like the following"
   ]
  },
  {
   "cell_type": "code",
   "execution_count": 7,
   "id": "3281c603",
   "metadata": {
    "pycharm": {
     "name": "#%%\n"
    }
   },
   "outputs": [],
   "source": [
    "def my_cvKNN(traindata, Ytrain, num_folds):\n",
    "    n = len(Ytrain)\n",
    "    fold_size = int(n / num_folds)\n",
    "    kvector = range(1, 181)\n",
    "\n",
    "    k_cverr = []\n",
    "    for k in kvector:\n",
    "        err = cv_error(k, traindata, Ytrain, num_folds)\n",
    "        k_cverr.append(err)\n",
    "\n",
    "    ########################################\n",
    "    # Your Code\n",
    "    # Compute CV errors and store them in k_cverr\n",
    "    #########################################\n",
    "    \n",
    "    tmp = np.column_stack((kvector, k_cverr))\n",
    "    best_k = tmp[tmp[:,1] == np.min(tmp[:,1])][:,0]\n",
    "    return np.max(best_k)"
   ]
  },
  {
   "cell_type": "code",
   "execution_count": 6,
   "id": "4de49e5d",
   "metadata": {
    "pycharm": {
     "name": "#%%\n"
    }
   },
   "outputs": [
    {
     "ename": "NameError",
     "evalue": "name 'Xtrain' is not defined",
     "output_type": "error",
     "traceback": [
      "\u001b[0;31m---------------------------------------------------------------------------\u001b[0m",
      "\u001b[0;31mNameError\u001b[0m                                 Traceback (most recent call last)",
      "Input \u001b[0;32mIn [6]\u001b[0m, in \u001b[0;36m<module>\u001b[0;34m\u001b[0m\n\u001b[1;32m     18\u001b[0m     \u001b[38;5;28;01mreturn\u001b[39;00m np\u001b[38;5;241m.\u001b[39mmax(best_k)\n\u001b[1;32m     20\u001b[0m num_folds \u001b[38;5;241m=\u001b[39m \u001b[38;5;241m10\u001b[39m\n\u001b[0;32m---> 21\u001b[0m best_k \u001b[38;5;241m=\u001b[39m \u001b[38;5;28mint\u001b[39m(my_cvKNN(\u001b[43mXtrain\u001b[49m, Ytrain, num_folds))\n\u001b[1;32m     23\u001b[0m cvKNN \u001b[38;5;241m=\u001b[39m knn(best_k)\n\u001b[1;32m     24\u001b[0m cvKNN\u001b[38;5;241m.\u001b[39mfit(Xtrain, Ytrain)\n",
      "\u001b[0;31mNameError\u001b[0m: name 'Xtrain' is not defined"
     ]
    }
   ],
   "source": [
    "num_folds = 10\n",
    "best_k = int(my_cvKNN(Xtrain, Ytrain, num_folds))\n",
    "\n",
    "cvKNN = knn(best_k)\n",
    "cvKNN.fit(Xtrain, Ytrain)\n",
    "test_pred = cvKNN.predict(Xtest)"
   ]
  },
  {
   "cell_type": "code",
   "execution_count": 21,
   "id": "74459508",
   "metadata": {},
   "outputs": [
    {
     "data": {
      "text/plain": [
       "0.2314"
      ]
     },
     "execution_count": 21,
     "metadata": {},
     "output_type": "execute_result"
    }
   ],
   "source": [
    "np.mean(test_pred != Ytest)"
   ]
  },
  {
   "cell_type": "markdown",
   "id": "d68912d7",
   "metadata": {},
   "source": [
    "In the case of two k values that have equal test value, we use the k value that is numerically larger. This is because a larger k value makes our model more robust for future unknown datasets"
   ]
  },
  {
   "cell_type": "markdown",
   "id": "6129a687",
   "metadata": {
    "pycharm": {
     "name": "#%% md\n"
    }
   },
   "source": [
    "## Part III: Bayes Rule¶\n",
    "\n",
    "You can use the following code to compute the numerator and the denominator of that ratio."
   ]
  },
  {
   "cell_type": "code",
   "execution_count": 18,
   "id": "2e0fc844",
   "metadata": {
    "pycharm": {
     "name": "#%%\n"
    }
   },
   "outputs": [],
   "source": [
    "test_pred = []\n",
    "for x in Xtest:\n",
    "    d1 = sum(np.exp(- ((m1[i, 0] - x[0]) ** 2 + (m1[i, 1] - x[1]) ** 2) / (2 * sigma ** 2)) for i in range(len(m1)))\n",
    "    d0 = sum(np.exp(- ((m0[i, 0] - x[0]) ** 2 + (m0[i, 1] - x[1]) ** 2) / (2 * sigma ** 2)) for i in range(len(m0)))\n",
    "    if d1/d0 >=1:\n",
    "        test_pred.append(1)\n",
    "    else:\n",
    "        test_pred.append(0)"
   ]
  },
  {
   "cell_type": "code",
   "execution_count": 19,
   "id": "c212e9e7",
   "metadata": {},
   "outputs": [
    {
     "data": {
      "text/plain": [
       "0.25565"
      ]
     },
     "execution_count": 19,
     "metadata": {},
     "output_type": "execute_result"
    }
   ],
   "source": [
    "np.mean(test_pred != Ytest)"
   ]
  },
  {
   "cell_type": "markdown",
   "id": "79a76d00",
   "metadata": {},
   "source": [
    "The Bayes Rule classifier has a 25\\% error rate"
   ]
  },
  {
   "cell_type": "markdown",
   "id": "87d824c4",
   "metadata": {
    "pycharm": {
     "name": "#%% md\n"
    }
   },
   "source": [
    "## Part IV: Simulation Study"
   ]
  },
  {
   "cell_type": "markdown",
   "id": "24cc285e",
   "metadata": {
    "pycharm": {
     "name": "#%%\n"
    }
   },
   "source": [
    "We generate our datasets on-the-fly instead of pregenerating them."
   ]
  },
  {
   "cell_type": "code",
   "execution_count": 10,
   "id": "9c842993",
   "metadata": {},
   "outputs": [],
   "source": [
    "knn_k1_err = []\n",
    "knn_kcv_err = []\n",
    "optimal_ks = []\n",
    "bayes_rule_err = []\n",
    "for i in range(0,50):\n",
    "    # Generate ith set of data\n",
    "    Xtrain, Ytrain, Xtest, Ytest = generate_sim_data(sim_params)\n",
    "    \n",
    "    # kNN with k=1\n",
    "    k = 1\n",
    "    knn_model = knn(n_neighbors = k)\n",
    "    knn_model.fit(Xtrain, Ytrain)\n",
    "    test_pred = knn_model.predict(Xtest)\n",
    "    knn_k1_err.append(np.mean(test_pred != Ytest))\n",
    "    \n",
    "    # kNN with k determined by 10-fold CVV\n",
    "    num_folds = 10\n",
    "    best_k = int(my_cvKNN(Xtrain, Ytrain, num_folds))\n",
    "    optimal_ks.append(best_k)\n",
    "    knn_model = knn(n_neighbors = best_k)\n",
    "    knn_model.fit(Xtrain, Ytrain)\n",
    "    test_pred = knn_model.predict(Xtest)\n",
    "    knn_kcv_err.append(np.mean(test_pred != Ytest))\n",
    "    \n",
    "    # Bayes Rule\n",
    "    test_pred = []\n",
    "    for x in Xtest:\n",
    "        d1 = sum(np.exp(- ((m1[i, 0] - x[0]) ** 2 + (m1[i, 1] - x[1]) ** 2) / (2 * sigma ** 2)) for i in range(len(m1)))\n",
    "        d0 = sum(np.exp(- ((m0[i, 0] - x[0]) ** 2 + (m0[i, 1] - x[1]) ** 2) / (2 * sigma ** 2)) for i in range(len(m0)))\n",
    "        if d1/d0 >=1:\n",
    "            test_pred.append(1)\n",
    "        else:\n",
    "            test_pred.append(0)\n",
    "            \n",
    "    bayes_rule_err.append(np.mean(test_pred != Ytest))\n"
   ]
  },
  {
   "cell_type": "code",
   "execution_count": 19,
   "id": "36cba58b",
   "metadata": {},
   "outputs": [
    {
     "data": {
      "text/plain": [
       "{'whiskers': [<matplotlib.lines.Line2D at 0x7f0d8d645660>,\n",
       "  <matplotlib.lines.Line2D at 0x7f0d8d645ba0>,\n",
       "  <matplotlib.lines.Line2D at 0x7f0d8d646ef0>,\n",
       "  <matplotlib.lines.Line2D at 0x7f0d8d647280>,\n",
       "  <matplotlib.lines.Line2D at 0x7f0d8d64cd00>,\n",
       "  <matplotlib.lines.Line2D at 0x7f0d8d64d060>],\n",
       " 'caps': [<matplotlib.lines.Line2D at 0x7f0d8d645f30>,\n",
       "  <matplotlib.lines.Line2D at 0x7f0d8d6460e0>,\n",
       "  <matplotlib.lines.Line2D at 0x7f0d8d6477c0>,\n",
       "  <matplotlib.lines.Line2D at 0x7f0d8d647a00>,\n",
       "  <matplotlib.lines.Line2D at 0x7f0d8d64d3f0>,\n",
       "  <matplotlib.lines.Line2D at 0x7f0d8d64d780>],\n",
       " 'boxes': [<matplotlib.lines.Line2D at 0x7f0d8d6452d0>,\n",
       "  <matplotlib.lines.Line2D at 0x7f0d8d646d40>,\n",
       "  <matplotlib.lines.Line2D at 0x7f0d8d64c970>],\n",
       " 'medians': [<matplotlib.lines.Line2D at 0x7f0d8d646470>,\n",
       "  <matplotlib.lines.Line2D at 0x7f0d8d64c250>,\n",
       "  <matplotlib.lines.Line2D at 0x7f0d8d64db10>],\n",
       " 'fliers': [<matplotlib.lines.Line2D at 0x7f0d8d6469b0>,\n",
       "  <matplotlib.lines.Line2D at 0x7f0d8d64c5e0>,\n",
       "  <matplotlib.lines.Line2D at 0x7f0d8d64de70>],\n",
       " 'means': []}"
      ]
     },
     "execution_count": 19,
     "metadata": {},
     "output_type": "execute_result"
    },
    {
     "data": {
      "image/png": "[encoded data removed]",
      "text/plain": [
       "<Figure size 432x288 with 1 Axes>"
      ]
     },
     "metadata": {
      "needs_background": "light"
     },
     "output_type": "display_data"
    }
   ],
   "source": [
    "plt.boxplot([knn_k1_err, knn_kcv_err, bayes_rule_err], labels=('kNN with k=1', 'kNN with CVV-optimized k', 'Bayes rule'))\n",
    "plt.title()"
   ]
  },
  {
   "cell_type": "markdown",
   "id": "c9175dd5",
   "metadata": {},
   "source": [
    "As expected, kNN with cross-validation-optimized k performed the best, however it has a very high variance. We beleive this is due to the high variance in the optimal k values themselves. The statistics for the optimal ks are reported below:"
   ]
  },
  {
   "cell_type": "code",
   "execution_count": 16,
   "id": "ddbca4e7",
   "metadata": {},
   "outputs": [
    {
     "data": {
      "text/plain": [
       "34.8"
      ]
     },
     "execution_count": 16,
     "metadata": {},
     "output_type": "execute_result"
    }
   ],
   "source": [
    "np.mean(optimal_ks)"
   ]
  },
  {
   "cell_type": "markdown",
   "id": "66e818b3",
   "metadata": {},
   "source": [
    "The mean is much higher than k=10"
   ]
  },
  {
   "cell_type": "code",
   "execution_count": 18,
   "id": "5ed24a84",
   "metadata": {},
   "outputs": [
    {
     "data": {
      "text/plain": [
       "29.2362788329842"
      ]
     },
     "execution_count": 18,
     "metadata": {},
     "output_type": "execute_result"
    }
   ],
   "source": [
    "# standard deviation\n",
    "np.std(optimal_ks)"
   ]
  },
  {
   "cell_type": "code",
   "execution_count": 21,
   "id": "7bb06c4f",
   "metadata": {},
   "outputs": [
    {
     "data": {
      "text/plain": [
       "4.13463420389277"
      ]
     },
     "execution_count": 21,
     "metadata": {},
     "output_type": "execute_result"
    }
   ],
   "source": [
    "# standard error\n",
    "np.std(optimal_ks) / np.sqrt(50)"
   ]
  },
  {
   "cell_type": "markdown",
   "id": "26e1dd30",
   "metadata": {},
   "source": [
    "This standard error implies that CVV-stabilized kNN is prone to instability in the optmization process."
   ]
  }
 ],
 "metadata": {
  "kernelspec": {
   "display_name": "Python 3 (ipykernel)",
   "language": "python",
   "name": "python3"
  },
  "language_info": {
   "codemirror_mode": {
    "name": "ipython",
    "version": 3
   },
   "file_extension": ".py",
   "mimetype": "text/x-python",
   "name": "python",
   "nbconvert_exporter": "python",
   "pygments_lexer": "ipython3",
   "version": "3.10.2"
  }
 },
 "nbformat": 4,
 "nbformat_minor": 5
}
